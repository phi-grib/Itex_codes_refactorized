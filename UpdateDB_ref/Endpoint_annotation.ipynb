{
 "cells": [
  {
   "cell_type": "code",
   "execution_count": 1,
   "metadata": {},
   "outputs": [
    {
     "name": "stderr",
     "output_type": "stream",
     "text": [
      "\n",
      "*** CompoundDB module found. Will check the synonyms table to resolve CAS. ***\n",
      "\n"
     ]
    }
   ],
   "source": [
    "import numpy as np\n",
    "import pandas as pd\n",
    "\n",
    "from UpdateDB_ref import Endpoint_annotation as ep"
   ]
  },
  {
   "cell_type": "code",
   "execution_count": 2,
   "metadata": {},
   "outputs": [],
   "source": [
    "ep_refactored = ep.Endpoint(host='gea', dbname='cii_v3_test_refactored_2', user='postgres', password='DBAdmin')"
   ]
  },
  {
   "cell_type": "code",
   "execution_count": 3,
   "metadata": {},
   "outputs": [],
   "source": [
    "ep_pharos = ep.Endpoint(host='localhost', dbname='cii_pharos', user='postgres', password='PSGAdmin')"
   ]
  },
  {
   "cell_type": "code",
   "execution_count": 4,
   "metadata": {},
   "outputs": [],
   "source": [
    "endpoints_ref = ep_refactored.get_endpoints()"
   ]
  },
  {
   "cell_type": "code",
   "execution_count": 5,
   "metadata": {},
   "outputs": [],
   "source": [
    "endpoints_pharos = ep_pharos.get_endpoints()"
   ]
  },
  {
   "cell_type": "code",
   "execution_count": 6,
   "metadata": {},
   "outputs": [
    {
     "name": "stderr",
     "output_type": "stream",
     "text": [
      "/home/emarch/miniconda3/envs/inditex/lib/python3.7/site-packages/pandas/core/ops.py:1649: FutureWarning: elementwise comparison failed; returning scalar instead, but in the future will perform elementwise comparison\n",
      "  result = method(y)\n"
     ]
    },
    {
     "data": {
      "text/html": [
       "<div>\n",
       "<style scoped>\n",
       "    .dataframe tbody tr th:only-of-type {\n",
       "        vertical-align: middle;\n",
       "    }\n",
       "\n",
       "    .dataframe tbody tr th {\n",
       "        vertical-align: top;\n",
       "    }\n",
       "\n",
       "    .dataframe thead th {\n",
       "        text-align: right;\n",
       "    }\n",
       "</style>\n",
       "<table border=\"1\" class=\"dataframe\">\n",
       "  <thead>\n",
       "    <tr style=\"text-align: right;\">\n",
       "      <th></th>\n",
       "      <th>Endpoints</th>\n",
       "      <th>YES</th>\n",
       "      <th>Pending</th>\n",
       "      <th>NO</th>\n",
       "      <th>No information</th>\n",
       "    </tr>\n",
       "  </thead>\n",
       "  <tbody>\n",
       "    <tr>\n",
       "      <th>0</th>\n",
       "      <td>cmr</td>\n",
       "      <td>1909.0</td>\n",
       "      <td>41.0</td>\n",
       "      <td>890.0</td>\n",
       "      <td>2832.0</td>\n",
       "    </tr>\n",
       "    <tr>\n",
       "      <th>1</th>\n",
       "      <td>pbt</td>\n",
       "      <td>87.0</td>\n",
       "      <td>0.0</td>\n",
       "      <td>746.0</td>\n",
       "      <td>4839.0</td>\n",
       "    </tr>\n",
       "    <tr>\n",
       "      <th>2</th>\n",
       "      <td>vpvb</td>\n",
       "      <td>97.0</td>\n",
       "      <td>0.0</td>\n",
       "      <td>746.0</td>\n",
       "      <td>4829.0</td>\n",
       "    </tr>\n",
       "    <tr>\n",
       "      <th>3</th>\n",
       "      <td>endocrine_disruptor</td>\n",
       "      <td>299.0</td>\n",
       "      <td>0.0</td>\n",
       "      <td>0.0</td>\n",
       "      <td>5373.0</td>\n",
       "    </tr>\n",
       "    <tr>\n",
       "      <th>4</th>\n",
       "      <td>sensitiser</td>\n",
       "      <td>133.0</td>\n",
       "      <td>129.0</td>\n",
       "      <td>0.0</td>\n",
       "      <td>2143.0</td>\n",
       "    </tr>\n",
       "    <tr>\n",
       "      <th>5</th>\n",
       "      <td>chem_id</td>\n",
       "      <td>0.0</td>\n",
       "      <td>0.0</td>\n",
       "      <td>0.0</td>\n",
       "      <td>0.0</td>\n",
       "    </tr>\n",
       "  </tbody>\n",
       "</table>\n",
       "</div>"
      ],
      "text/plain": [
       "             Endpoints     YES  Pending     NO  No information\n",
       "0                  cmr  1909.0     41.0  890.0          2832.0\n",
       "1                  pbt    87.0      0.0  746.0          4839.0\n",
       "2                 vpvb    97.0      0.0  746.0          4829.0\n",
       "3  endocrine_disruptor   299.0      0.0    0.0          5373.0\n",
       "4           sensitiser   133.0    129.0    0.0          2143.0\n",
       "5              chem_id     0.0      0.0    0.0             0.0"
      ]
     },
     "execution_count": 6,
     "metadata": {},
     "output_type": "execute_result"
    }
   ],
   "source": [
    "ep_refactored.get_total_annotations_per_endpoint(endpoints_ref)"
   ]
  },
  {
   "cell_type": "code",
   "execution_count": 7,
   "metadata": {},
   "outputs": [
    {
     "name": "stderr",
     "output_type": "stream",
     "text": [
      "/home/emarch/miniconda3/envs/inditex/lib/python3.7/site-packages/pandas/core/ops.py:1649: FutureWarning: elementwise comparison failed; returning scalar instead, but in the future will perform elementwise comparison\n",
      "  result = method(y)\n"
     ]
    },
    {
     "data": {
      "text/html": [
       "<div>\n",
       "<style scoped>\n",
       "    .dataframe tbody tr th:only-of-type {\n",
       "        vertical-align: middle;\n",
       "    }\n",
       "\n",
       "    .dataframe tbody tr th {\n",
       "        vertical-align: top;\n",
       "    }\n",
       "\n",
       "    .dataframe thead th {\n",
       "        text-align: right;\n",
       "    }\n",
       "</style>\n",
       "<table border=\"1\" class=\"dataframe\">\n",
       "  <thead>\n",
       "    <tr style=\"text-align: right;\">\n",
       "      <th></th>\n",
       "      <th>Endpoints</th>\n",
       "      <th>YES</th>\n",
       "      <th>Pending</th>\n",
       "      <th>NO</th>\n",
       "      <th>No information</th>\n",
       "    </tr>\n",
       "  </thead>\n",
       "  <tbody>\n",
       "    <tr>\n",
       "      <th>0</th>\n",
       "      <td>subs_id</td>\n",
       "      <td>0.0</td>\n",
       "      <td>0.0</td>\n",
       "      <td>0.0</td>\n",
       "      <td>0.0</td>\n",
       "    </tr>\n",
       "    <tr>\n",
       "      <th>1</th>\n",
       "      <td>cmr</td>\n",
       "      <td>1362.0</td>\n",
       "      <td>39.0</td>\n",
       "      <td>477.0</td>\n",
       "      <td>2756.0</td>\n",
       "    </tr>\n",
       "    <tr>\n",
       "      <th>2</th>\n",
       "      <td>pbt</td>\n",
       "      <td>38.0</td>\n",
       "      <td>0.0</td>\n",
       "      <td>357.0</td>\n",
       "      <td>4239.0</td>\n",
       "    </tr>\n",
       "    <tr>\n",
       "      <th>3</th>\n",
       "      <td>vpvb</td>\n",
       "      <td>43.0</td>\n",
       "      <td>0.0</td>\n",
       "      <td>357.0</td>\n",
       "      <td>4234.0</td>\n",
       "    </tr>\n",
       "    <tr>\n",
       "      <th>4</th>\n",
       "      <td>endocrine_disruptor</td>\n",
       "      <td>199.0</td>\n",
       "      <td>0.0</td>\n",
       "      <td>3.0</td>\n",
       "      <td>4432.0</td>\n",
       "    </tr>\n",
       "    <tr>\n",
       "      <th>5</th>\n",
       "      <td>sensitiser</td>\n",
       "      <td>64.0</td>\n",
       "      <td>68.0</td>\n",
       "      <td>0.0</td>\n",
       "      <td>1235.0</td>\n",
       "    </tr>\n",
       "  </tbody>\n",
       "</table>\n",
       "</div>"
      ],
      "text/plain": [
       "             Endpoints     YES  Pending     NO  No information\n",
       "0              subs_id     0.0      0.0    0.0             0.0\n",
       "1                  cmr  1362.0     39.0  477.0          2756.0\n",
       "2                  pbt    38.0      0.0  357.0          4239.0\n",
       "3                 vpvb    43.0      0.0  357.0          4234.0\n",
       "4  endocrine_disruptor   199.0      0.0    3.0          4432.0\n",
       "5           sensitiser    64.0     68.0    0.0          1235.0"
      ]
     },
     "execution_count": 7,
     "metadata": {},
     "output_type": "execute_result"
    }
   ],
   "source": [
    "ep_pharos.get_total_annotations_per_endpoint(endpoints_pharos)"
   ]
  },
  {
   "cell_type": "code",
   "execution_count": 8,
   "metadata": {},
   "outputs": [],
   "source": [
    "endpoint_pos = pd.read_sql_query(\"\"\"select pea.annotation_id, rn.names, pea.endpoint \n",
    "from positive_endpoint_annotations pea\n",
    "left join regulation_names rn on rn.id = pea.annotation_id\n",
    "order by pea.id \"\"\", ep_refactored.conn)"
   ]
  },
  {
   "cell_type": "code",
   "execution_count": 9,
   "metadata": {},
   "outputs": [],
   "source": [
    "endpoint_dict = {'CMR':endpoint_pos.loc[endpoint_pos['endpoint'] == 'cmr','names'].tolist(),\n",
    "                 'PBT':endpoint_pos.loc[endpoint_pos['endpoint'] == 'pbt','names'].tolist(),\n",
    "                 'vPvB':endpoint_pos.loc[endpoint_pos['endpoint'] == 'vpvb','names'].tolist(),\n",
    "                 'Endocrine Disruptor':endpoint_pos.loc[endpoint_pos['endpoint'] == 'endocrine disruptor','names'].tolist()}"
   ]
  },
  {
   "cell_type": "code",
   "execution_count": 10,
   "metadata": {},
   "outputs": [],
   "source": [
    "substances = ep_refactored.get_substances().sort_values(by='id').id.unique()"
   ]
  },
  {
   "cell_type": "code",
   "execution_count": 11,
   "metadata": {},
   "outputs": [],
   "source": [
    "chem_ids = ep_refactored.get_chem_id_dataframe()"
   ]
  },
  {
   "cell_type": "code",
   "execution_count": 12,
   "metadata": {},
   "outputs": [],
   "source": [
    "chem_ids_unique = chem_ids.loc[chem_ids['chem_type_id'] == 1, 'id'].unique()"
   ]
  },
  {
   "cell_type": "code",
   "execution_count": null,
   "metadata": {},
   "outputs": [],
   "source": [
    "chemid_endpoint = ep_refactored.get_annotations_for_substance(chem_ids_unique, endpoint_dict)"
   ]
  },
  {
   "cell_type": "code",
   "execution_count": 14,
   "metadata": {},
   "outputs": [
    {
     "data": {
      "text/html": [
       "<div>\n",
       "<style scoped>\n",
       "    .dataframe tbody tr th:only-of-type {\n",
       "        vertical-align: middle;\n",
       "    }\n",
       "\n",
       "    .dataframe tbody tr th {\n",
       "        vertical-align: top;\n",
       "    }\n",
       "\n",
       "    .dataframe thead th {\n",
       "        text-align: right;\n",
       "    }\n",
       "</style>\n",
       "<table border=\"1\" class=\"dataframe\">\n",
       "  <thead>\n",
       "    <tr style=\"text-align: right;\">\n",
       "      <th></th>\n",
       "      <th>subs_id</th>\n",
       "      <th>CMR</th>\n",
       "      <th>PBT</th>\n",
       "      <th>vPvB</th>\n",
       "      <th>Endocrine Disruptor</th>\n",
       "      <th>Sensitiser</th>\n",
       "    </tr>\n",
       "  </thead>\n",
       "  <tbody>\n",
       "    <tr>\n",
       "      <th>0</th>\n",
       "      <td>1.0</td>\n",
       "      <td>YES</td>\n",
       "      <td>No information</td>\n",
       "      <td>No information</td>\n",
       "      <td>No information</td>\n",
       "      <td>YES</td>\n",
       "    </tr>\n",
       "    <tr>\n",
       "      <th>1</th>\n",
       "      <td>2.0</td>\n",
       "      <td>YES</td>\n",
       "      <td>No information</td>\n",
       "      <td>No information</td>\n",
       "      <td>YES</td>\n",
       "      <td>No information</td>\n",
       "    </tr>\n",
       "    <tr>\n",
       "      <th>2</th>\n",
       "      <td>3.0</td>\n",
       "      <td>YES</td>\n",
       "      <td>No information</td>\n",
       "      <td>No information</td>\n",
       "      <td>No information</td>\n",
       "      <td>No information</td>\n",
       "    </tr>\n",
       "    <tr>\n",
       "      <th>3</th>\n",
       "      <td>4.0</td>\n",
       "      <td>YES</td>\n",
       "      <td>No information</td>\n",
       "      <td>No information</td>\n",
       "      <td>No information</td>\n",
       "      <td>No information</td>\n",
       "    </tr>\n",
       "    <tr>\n",
       "      <th>4</th>\n",
       "      <td>5.0</td>\n",
       "      <td>No information</td>\n",
       "      <td>No information</td>\n",
       "      <td>No information</td>\n",
       "      <td>No information</td>\n",
       "      <td>No information</td>\n",
       "    </tr>\n",
       "  </tbody>\n",
       "</table>\n",
       "</div>"
      ],
      "text/plain": [
       "   subs_id             CMR             PBT            vPvB  \\\n",
       "0      1.0             YES  No information  No information   \n",
       "1      2.0             YES  No information  No information   \n",
       "2      3.0             YES  No information  No information   \n",
       "3      4.0             YES  No information  No information   \n",
       "4      5.0  No information  No information  No information   \n",
       "\n",
       "  Endocrine Disruptor      Sensitiser  \n",
       "0      No information             YES  \n",
       "1                 YES  No information  \n",
       "2      No information  No information  \n",
       "3      No information  No information  \n",
       "4      No information  No information  "
      ]
     },
     "execution_count": 14,
     "metadata": {},
     "output_type": "execute_result"
    }
   ],
   "source": [
    "chemid_endpoint.head()"
   ]
  },
  {
   "cell_type": "markdown",
   "metadata": {},
   "source": [
    "### Here it should come the check part\n",
    "After getting the endpoint annotations per substance, and at the same time we update the database with them, the check function should come.\n",
    "Before updating the DB, the check function should see if there's a substance id in the table.\n",
    "If no, adds the new substance with the annotations.\n",
    "If there is, then it checks the annotations and applies the filters we've spoken"
   ]
  },
  {
   "cell_type": "code",
   "execution_count": 15,
   "metadata": {},
   "outputs": [],
   "source": [
    "# ep.add_annotations_to_database(subs_endpoint)"
   ]
  },
  {
   "cell_type": "markdown",
   "metadata": {},
   "source": [
    "### Total annotation check\n",
    "This only counts the total number of annotations per endpoint we have"
   ]
  },
  {
   "cell_type": "code",
   "execution_count": 16,
   "metadata": {},
   "outputs": [
    {
     "data": {
      "text/html": [
       "<div>\n",
       "<style scoped>\n",
       "    .dataframe tbody tr th:only-of-type {\n",
       "        vertical-align: middle;\n",
       "    }\n",
       "\n",
       "    .dataframe tbody tr th {\n",
       "        vertical-align: top;\n",
       "    }\n",
       "\n",
       "    .dataframe thead th {\n",
       "        text-align: right;\n",
       "    }\n",
       "</style>\n",
       "<table border=\"1\" class=\"dataframe\">\n",
       "  <thead>\n",
       "    <tr style=\"text-align: right;\">\n",
       "      <th></th>\n",
       "      <th>Endpoints</th>\n",
       "      <th>YES</th>\n",
       "      <th>Pending</th>\n",
       "      <th>No information</th>\n",
       "    </tr>\n",
       "  </thead>\n",
       "  <tbody>\n",
       "    <tr>\n",
       "      <th>0</th>\n",
       "      <td>CMR</td>\n",
       "      <td>153.0</td>\n",
       "      <td>59.0</td>\n",
       "      <td>1155.0</td>\n",
       "    </tr>\n",
       "    <tr>\n",
       "      <th>1</th>\n",
       "      <td>PBT</td>\n",
       "      <td>44.0</td>\n",
       "      <td>0.0</td>\n",
       "      <td>1323.0</td>\n",
       "    </tr>\n",
       "    <tr>\n",
       "      <th>2</th>\n",
       "      <td>vPvB</td>\n",
       "      <td>49.0</td>\n",
       "      <td>0.0</td>\n",
       "      <td>1318.0</td>\n",
       "    </tr>\n",
       "    <tr>\n",
       "      <th>3</th>\n",
       "      <td>Endocrine Disruptor</td>\n",
       "      <td>148.0</td>\n",
       "      <td>0.0</td>\n",
       "      <td>1219.0</td>\n",
       "    </tr>\n",
       "    <tr>\n",
       "      <th>4</th>\n",
       "      <td>Sensitiser</td>\n",
       "      <td>64.0</td>\n",
       "      <td>68.0</td>\n",
       "      <td>1235.0</td>\n",
       "    </tr>\n",
       "  </tbody>\n",
       "</table>\n",
       "</div>"
      ],
      "text/plain": [
       "             Endpoints    YES  Pending  No information\n",
       "0                  CMR  153.0     59.0          1155.0\n",
       "1                  PBT   44.0      0.0          1323.0\n",
       "2                 vPvB   49.0      0.0          1318.0\n",
       "3  Endocrine Disruptor  148.0      0.0          1219.0\n",
       "4           Sensitiser   64.0     68.0          1235.0"
      ]
     },
     "execution_count": 16,
     "metadata": {},
     "output_type": "execute_result"
    }
   ],
   "source": [
    "ep.get_total_annotations_per_endpoint(subs_endpoint)"
   ]
  }
 ],
 "metadata": {
  "kernelspec": {
   "display_name": "Python 3",
   "language": "python",
   "name": "python3"
  },
  "language_info": {
   "codemirror_mode": {
    "name": "ipython",
    "version": 3
   },
   "file_extension": ".py",
   "mimetype": "text/x-python",
   "name": "python",
   "nbconvert_exporter": "python",
   "pygments_lexer": "ipython3",
   "version": "3.7.3"
  }
 },
 "nbformat": 4,
 "nbformat_minor": 4
}
