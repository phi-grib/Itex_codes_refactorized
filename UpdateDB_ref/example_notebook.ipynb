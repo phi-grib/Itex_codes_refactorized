{
 "cells": [
  {
   "cell_type": "code",
   "execution_count": 1,
   "metadata": {},
   "outputs": [
    {
     "name": "stderr",
     "output_type": "stream",
     "text": [
      "\n",
      "*** CompoundDB module found. Will check the synonyms table to resolve CAS. ***\n",
      "\n"
     ]
    }
   ],
   "source": [
    "import numpy as np\n",
    "import pandas as pd\n",
    "\n",
    "from compoundDB import inputtools as it\n",
    "from UpdateDB_ref import Checkpoint as cp\n",
    "from UpdateDB_ref import CR\n",
    "from UpdateDB_ref import Update_CII as updater"
   ]
  },
  {
   "cell_type": "markdown",
   "metadata": {},
   "source": [
    "#### Load list into pandas"
   ]
  },
  {
   "cell_type": "code",
   "execution_count": 2,
   "metadata": {},
   "outputs": [],
   "source": [
    "example_df = pd.read_csv('example.csv', sep=',')"
   ]
  },
  {
   "cell_type": "markdown",
   "metadata": {},
   "source": [
    "#### Processing example dataframe\n",
    "First we get CAS and then we generate a list with unique CAS. Finally we'll get the annotations for each CAS from CR database.\n",
    "Is important to remember that each input should be curated manually to end up having the same format obtained at the end with example_annotations dataframe."
   ]
  },
  {
   "cell_type": "code",
   "execution_count": 3,
   "metadata": {},
   "outputs": [],
   "source": [
    "example_df.loc[:,'N.o CAS'] = example_df['N.o CAS'].str.split('/')\n",
    "example_df.loc[:,'N.o CAS'] = example_df['N.o CAS'].astype(str).apply(lambda x: x.strip('[').strip(']').replace(\"'\",\"\").strip().replace(' and several other',''))"
   ]
  },
  {
   "cell_type": "code",
   "execution_count": 4,
   "metadata": {},
   "outputs": [],
   "source": [
    "example_copy = example_df.copy()"
   ]
  },
  {
   "cell_type": "code",
   "execution_count": 5,
   "metadata": {},
   "outputs": [],
   "source": [
    "new_data = {'Sustancia':[],'Listado individual':[], 'N.o CAS':[]}\n",
    "for i, row in example_df.iterrows():\n",
    "    subs_row = row['Sustancia']\n",
    "    pref_name = row['Listado individual']\n",
    "    cas_row = row['N.o CAS']\n",
    "    if ',' in cas_row:\n",
    "        cas_list = cas_row.split(',')\n",
    "        for cas in cas_list:\n",
    "            new_data['Sustancia'].append(subs_row)\n",
    "            new_data['Listado individual'].append(pref_name)\n",
    "            new_data['N.o CAS'].append(cas.strip())\n",
    "        example_copy.drop(i, axis=0, inplace=True)\n",
    "new_df = pd.DataFrame(new_data)"
   ]
  },
  {
   "cell_type": "code",
   "execution_count": 6,
   "metadata": {},
   "outputs": [],
   "source": [
    "example_conc = pd.concat([example_copy, new_df])\n",
    "example_conc.reset_index(inplace=True)\n",
    "example_conc.drop(labels='index',axis=1, inplace=True)\n",
    "example_conc.rename(columns={'N.o CAS':'CAS'},inplace=True)"
   ]
  },
  {
   "cell_type": "markdown",
   "metadata": {},
   "source": [
    "#### Connection to CR\n",
    "I connect to CR and extract annotations for each CAS"
   ]
  },
  {
   "cell_type": "code",
   "execution_count": 7,
   "metadata": {},
   "outputs": [],
   "source": [
    "ann_df = CR.CR().get_annotations_per_CAS()"
   ]
  },
  {
   "cell_type": "markdown",
   "metadata": {},
   "source": [
    "#### Preparing dataframes with annotations\n",
    "Here I create a new dataframe with CR annotations for each CAS in LSR. If I use pd.merge with how='inner' it allows me to recover all CAS from LSR dataframe avoiding empty substances"
   ]
  },
  {
   "cell_type": "code",
   "execution_count": 8,
   "metadata": {},
   "outputs": [],
   "source": [
    "example_annotations = example_conc.merge(ann_df, on='CAS', how='inner')"
   ]
  },
  {
   "cell_type": "code",
   "execution_count": 9,
   "metadata": {},
   "outputs": [
    {
     "data": {
      "text/html": [
       "<div>\n",
       "<style scoped>\n",
       "    .dataframe tbody tr th:only-of-type {\n",
       "        vertical-align: middle;\n",
       "    }\n",
       "\n",
       "    .dataframe tbody tr th {\n",
       "        vertical-align: top;\n",
       "    }\n",
       "\n",
       "    .dataframe thead th {\n",
       "        text-align: right;\n",
       "    }\n",
       "</style>\n",
       "<table border=\"1\" class=\"dataframe\">\n",
       "  <thead>\n",
       "    <tr style=\"text-align: right;\">\n",
       "      <th></th>\n",
       "      <th>Sustancia</th>\n",
       "      <th>Listado individual</th>\n",
       "      <th>CAS</th>\n",
       "      <th>source_name</th>\n",
       "      <th>original_annotation</th>\n",
       "      <th>annotation</th>\n",
       "      <th>general</th>\n",
       "      <th>category</th>\n",
       "    </tr>\n",
       "  </thead>\n",
       "  <tbody>\n",
       "    <tr>\n",
       "      <th>515</th>\n",
       "      <td>NaN</td>\n",
       "      <td>2,4-Toluilendiamine</td>\n",
       "      <td>95-80-7</td>\n",
       "      <td>CLP Notification</td>\n",
       "      <td>STOT RE 2</td>\n",
       "      <td>STOT RE 2</td>\n",
       "      <td>Specific Target Organ Toxicity</td>\n",
       "      <td>Clinical</td>\n",
       "    </tr>\n",
       "    <tr>\n",
       "      <th>67</th>\n",
       "      <td>NaN</td>\n",
       "      <td>4-Chloro-o-toluidine</td>\n",
       "      <td>95-69-2</td>\n",
       "      <td>CLP Notification</td>\n",
       "      <td>Eye Irrit. 2</td>\n",
       "      <td>Eye Irrit. 2</td>\n",
       "      <td>Eye</td>\n",
       "      <td>Clinical</td>\n",
       "    </tr>\n",
       "    <tr>\n",
       "      <th>437</th>\n",
       "      <td>NaN</td>\n",
       "      <td>4,4’-Oxydianiline</td>\n",
       "      <td>101-80-4</td>\n",
       "      <td>REACH Registration</td>\n",
       "      <td>Acute Tox. 3</td>\n",
       "      <td>Acute Tox. 3</td>\n",
       "      <td>Acute Toxicity</td>\n",
       "      <td>Other</td>\n",
       "    </tr>\n",
       "    <tr>\n",
       "      <th>72</th>\n",
       "      <td>NaN</td>\n",
       "      <td>4-Chloro-o-toluidine</td>\n",
       "      <td>95-69-2</td>\n",
       "      <td>CLP Notification</td>\n",
       "      <td>Skin Irrit. 2</td>\n",
       "      <td>Skin Irrit. 2</td>\n",
       "      <td>Skin</td>\n",
       "      <td>Clinical</td>\n",
       "    </tr>\n",
       "    <tr>\n",
       "      <th>175</th>\n",
       "      <td>NaN</td>\n",
       "      <td>2-Amino-4-nitrotoluene</td>\n",
       "      <td>99-55-8</td>\n",
       "      <td>REACH Registration</td>\n",
       "      <td>Carc. 2</td>\n",
       "      <td>Carc. 2</td>\n",
       "      <td>Carcinogen</td>\n",
       "      <td>CMR</td>\n",
       "    </tr>\n",
       "    <tr>\n",
       "      <th>375</th>\n",
       "      <td>NaN</td>\n",
       "      <td>3,3’-Dimethyl-4,4’-diaminodiphenilmethane</td>\n",
       "      <td>838-88-0</td>\n",
       "      <td>REACH Registration</td>\n",
       "      <td>Skin Sens. 1</td>\n",
       "      <td>Skin Sens. 1</td>\n",
       "      <td></td>\n",
       "      <td>Sensitiser</td>\n",
       "    </tr>\n",
       "    <tr>\n",
       "      <th>432</th>\n",
       "      <td>NaN</td>\n",
       "      <td>4,4’-Oxydianiline</td>\n",
       "      <td>101-80-4</td>\n",
       "      <td>REACH Annex VI</td>\n",
       "      <td>Carc. 1B</td>\n",
       "      <td>Carc. 1B</td>\n",
       "      <td>Carcinogen</td>\n",
       "      <td>CMR</td>\n",
       "    </tr>\n",
       "    <tr>\n",
       "      <th>361</th>\n",
       "      <td>NaN</td>\n",
       "      <td>3,3’-Dimethyl-4,4’-diaminodiphenilmethane</td>\n",
       "      <td>838-88-0</td>\n",
       "      <td>CLP Notification</td>\n",
       "      <td>Aquatic Chronic 2</td>\n",
       "      <td>Aquatic Chronic 2</td>\n",
       "      <td>Aquatic Chronic</td>\n",
       "      <td>Aquatic</td>\n",
       "    </tr>\n",
       "    <tr>\n",
       "      <th>217</th>\n",
       "      <td>NaN</td>\n",
       "      <td>2,4-Diaminoanisole</td>\n",
       "      <td>615-05-4</td>\n",
       "      <td>CLP Notification</td>\n",
       "      <td>Muta. 2</td>\n",
       "      <td>Muta. 2</td>\n",
       "      <td>Mutagen</td>\n",
       "      <td>CMR</td>\n",
       "    </tr>\n",
       "    <tr>\n",
       "      <th>51</th>\n",
       "      <td>NaN</td>\n",
       "      <td>Benzidine</td>\n",
       "      <td>92-87-5</td>\n",
       "      <td>REACH Annex III</td>\n",
       "      <td>Suspected mutagen</td>\n",
       "      <td>Suspected mutagen</td>\n",
       "      <td>Mutagen</td>\n",
       "      <td>CMR</td>\n",
       "    </tr>\n",
       "  </tbody>\n",
       "</table>\n",
       "</div>"
      ],
      "text/plain": [
       "    Sustancia                         Listado individual       CAS  \\\n",
       "515       NaN                        2,4-Toluilendiamine   95-80-7   \n",
       "67        NaN                       4-Chloro-o-toluidine   95-69-2   \n",
       "437       NaN                          4,4’-Oxydianiline  101-80-4   \n",
       "72        NaN                       4-Chloro-o-toluidine   95-69-2   \n",
       "175       NaN                     2-Amino-4-nitrotoluene   99-55-8   \n",
       "375       NaN  3,3’-Dimethyl-4,4’-diaminodiphenilmethane  838-88-0   \n",
       "432       NaN                          4,4’-Oxydianiline  101-80-4   \n",
       "361       NaN  3,3’-Dimethyl-4,4’-diaminodiphenilmethane  838-88-0   \n",
       "217       NaN                         2,4-Diaminoanisole  615-05-4   \n",
       "51        NaN                                  Benzidine   92-87-5   \n",
       "\n",
       "            source_name original_annotation         annotation  \\\n",
       "515    CLP Notification           STOT RE 2          STOT RE 2   \n",
       "67     CLP Notification        Eye Irrit. 2       Eye Irrit. 2   \n",
       "437  REACH Registration        Acute Tox. 3       Acute Tox. 3   \n",
       "72     CLP Notification       Skin Irrit. 2      Skin Irrit. 2   \n",
       "175  REACH Registration             Carc. 2            Carc. 2   \n",
       "375  REACH Registration        Skin Sens. 1       Skin Sens. 1   \n",
       "432      REACH Annex VI            Carc. 1B           Carc. 1B   \n",
       "361    CLP Notification   Aquatic Chronic 2  Aquatic Chronic 2   \n",
       "217    CLP Notification             Muta. 2            Muta. 2   \n",
       "51      REACH Annex III   Suspected mutagen  Suspected mutagen   \n",
       "\n",
       "                            general    category  \n",
       "515  Specific Target Organ Toxicity    Clinical  \n",
       "67                              Eye    Clinical  \n",
       "437                  Acute Toxicity       Other  \n",
       "72                             Skin    Clinical  \n",
       "175                      Carcinogen         CMR  \n",
       "375                                  Sensitiser  \n",
       "432                      Carcinogen         CMR  \n",
       "361                 Aquatic Chronic     Aquatic  \n",
       "217                         Mutagen         CMR  \n",
       "51                          Mutagen         CMR  "
      ]
     },
     "execution_count": 9,
     "metadata": {},
     "output_type": "execute_result"
    }
   ],
   "source": [
    "example_annotations.sample(10)"
   ]
  },
  {
   "cell_type": "markdown",
   "metadata": {},
   "source": [
    "#### Add dataframe to devel CII\n",
    "Add new substances to CII or update the ones that are already there. I use original_annotation because it includes EUH annotations, and annotation column doesn't."
   ]
  },
  {
   "cell_type": "code",
   "execution_count": 10,
   "metadata": {},
   "outputs": [],
   "source": [
    "updater = updater.UpdateDB(host='gea', dbname='cii_v3_test_refactored', user='postgres', password='DBAdmin')"
   ]
  },
  {
   "cell_type": "markdown",
   "metadata": {},
   "source": [
    "Add all the information from the dataframe: substance, chemical identifiers, structure, sources, annotations and how they're related (regulations table)"
   ]
  },
  {
   "cell_type": "code",
   "execution_count": 11,
   "metadata": {},
   "outputs": [],
   "source": [
    "updater.add_all_information_from_dataframe(dataframe=example_annotations,\n",
    "                                    class_name_field = 'Sustancia',\n",
    "                                    preferred_name_field = 'Listado individual',\n",
    "                                    chem_id_field='CAS',\n",
    "                                    chem_id_type='casr_number',\n",
    "                                    sourceName_field='source_name',\n",
    "                                    regulation_field='original_annotation')"
   ]
  },
  {
   "cell_type": "markdown",
   "metadata": {},
   "source": [
    "Add only substances by name"
   ]
  },
  {
   "cell_type": "code",
   "execution_count": 12,
   "metadata": {},
   "outputs": [],
   "source": [
    "updater.add_substances_from_dataframe(dataframe=example_annotations,\n",
    "                                    class_name_field = 'Sustancia',\n",
    "                                    preferred_name_field = 'Listado individual')"
   ]
  },
  {
   "cell_type": "markdown",
   "metadata": {},
   "source": [
    "Add chemical identifiers and substances by name"
   ]
  },
  {
   "cell_type": "code",
   "execution_count": 13,
   "metadata": {},
   "outputs": [],
   "source": [
    "updater.add_chemical_identifier_from_dataframe(dataframe=example_annotations,\n",
    "                                            class_name_field = 'Sustancia',\n",
    "                                            preferred_name_field = 'Listado individual',\n",
    "                                            chem_id_field='CAS',\n",
    "                                            chem_id_type='casr_number')"
   ]
  },
  {
   "cell_type": "markdown",
   "metadata": {},
   "source": [
    "Add only structures (SMILES) if present in the dataframe. If not, it generates the structure from the CAS and stores it"
   ]
  },
  {
   "cell_type": "code",
   "execution_count": 14,
   "metadata": {},
   "outputs": [],
   "source": [
    "small_strucs = updater.get_substances_with_structure()[:10]"
   ]
  },
  {
   "cell_type": "code",
   "execution_count": 15,
   "metadata": {},
   "outputs": [
    {
     "data": {
      "text/html": [
       "<div>\n",
       "<style scoped>\n",
       "    .dataframe tbody tr th:only-of-type {\n",
       "        vertical-align: middle;\n",
       "    }\n",
       "\n",
       "    .dataframe tbody tr th {\n",
       "        vertical-align: top;\n",
       "    }\n",
       "\n",
       "    .dataframe thead th {\n",
       "        text-align: right;\n",
       "    }\n",
       "</style>\n",
       "<table border=\"1\" class=\"dataframe\">\n",
       "  <thead>\n",
       "    <tr style=\"text-align: right;\">\n",
       "      <th></th>\n",
       "      <th>class_name_curated</th>\n",
       "      <th>preferred_name_curated</th>\n",
       "      <th>name</th>\n",
       "      <th>structure</th>\n",
       "      <th>structure_curated</th>\n",
       "      <th>substance_type_id</th>\n",
       "    </tr>\n",
       "  </thead>\n",
       "  <tbody>\n",
       "    <tr>\n",
       "      <th>0</th>\n",
       "      <td>Formaldehyde</td>\n",
       "      <td>Methanediol</td>\n",
       "      <td>463-57-0</td>\n",
       "      <td>OCO</td>\n",
       "      <td>OCO</td>\n",
       "      <td>1.0</td>\n",
       "    </tr>\n",
       "    <tr>\n",
       "      <th>1</th>\n",
       "      <td>Formaldehyde</td>\n",
       "      <td>Formaldehyde</td>\n",
       "      <td>50-00-0</td>\n",
       "      <td>C=O</td>\n",
       "      <td>C=O</td>\n",
       "      <td>1.0</td>\n",
       "    </tr>\n",
       "    <tr>\n",
       "      <th>2</th>\n",
       "      <td>N,N-Dimethylformamide</td>\n",
       "      <td>N,N-Dimethylformamide</td>\n",
       "      <td>68-12-2</td>\n",
       "      <td>CN(C)C=O</td>\n",
       "      <td>CN(C)C=O</td>\n",
       "      <td>1.0</td>\n",
       "    </tr>\n",
       "    <tr>\n",
       "      <th>3</th>\n",
       "      <td>None</td>\n",
       "      <td>Quinoline</td>\n",
       "      <td>91-22-5</td>\n",
       "      <td>c1ccc2ncccc2c1</td>\n",
       "      <td>c1ccc2ncccc2c1</td>\n",
       "      <td>1.0</td>\n",
       "    </tr>\n",
       "    <tr>\n",
       "      <th>4</th>\n",
       "      <td>N-nitrosamines</td>\n",
       "      <td>N-Nitrosodimethylamine</td>\n",
       "      <td>62-75-9</td>\n",
       "      <td>CN(C)N=O</td>\n",
       "      <td>CN(C)N=O</td>\n",
       "      <td>1.0</td>\n",
       "    </tr>\n",
       "    <tr>\n",
       "      <th>5</th>\n",
       "      <td>N-nitrosamines</td>\n",
       "      <td>N-Nitrosodiethylamine</td>\n",
       "      <td>55-18-5</td>\n",
       "      <td>CCN(CC)N=O</td>\n",
       "      <td>CCN(CC)N=O</td>\n",
       "      <td>1.0</td>\n",
       "    </tr>\n",
       "    <tr>\n",
       "      <th>6</th>\n",
       "      <td>N-nitrosamines</td>\n",
       "      <td>N-Nitrosodipropylamine</td>\n",
       "      <td>621-64-7</td>\n",
       "      <td>CCCN(CCC)N=O</td>\n",
       "      <td>CCCN(CCC)N=O</td>\n",
       "      <td>1.0</td>\n",
       "    </tr>\n",
       "    <tr>\n",
       "      <th>7</th>\n",
       "      <td>N-nitrosamines</td>\n",
       "      <td>N-Nitrosodibutylamine</td>\n",
       "      <td>924-16-3</td>\n",
       "      <td>CCCCN(CCCC)N=O</td>\n",
       "      <td>CCCCN(CCCC)N=O</td>\n",
       "      <td>1.0</td>\n",
       "    </tr>\n",
       "    <tr>\n",
       "      <th>8</th>\n",
       "      <td>N-nitrosamines</td>\n",
       "      <td>N-Nitrosopiperidine</td>\n",
       "      <td>100-75-4</td>\n",
       "      <td>O=NN1CCCCC1</td>\n",
       "      <td>O=NN1CCCCC1</td>\n",
       "      <td>1.0</td>\n",
       "    </tr>\n",
       "    <tr>\n",
       "      <th>9</th>\n",
       "      <td>N-nitrosamines</td>\n",
       "      <td>N-Nitrosopyrrolidine</td>\n",
       "      <td>930-55-2</td>\n",
       "      <td>O=NN1CCCC1</td>\n",
       "      <td>O=NN1CCCC1</td>\n",
       "      <td>1.0</td>\n",
       "    </tr>\n",
       "  </tbody>\n",
       "</table>\n",
       "</div>"
      ],
      "text/plain": [
       "      class_name_curated  preferred_name_curated      name       structure  \\\n",
       "0           Formaldehyde             Methanediol  463-57-0             OCO   \n",
       "1           Formaldehyde            Formaldehyde   50-00-0             C=O   \n",
       "2  N,N-Dimethylformamide   N,N-Dimethylformamide   68-12-2        CN(C)C=O   \n",
       "3                   None               Quinoline   91-22-5  c1ccc2ncccc2c1   \n",
       "4         N-nitrosamines  N-Nitrosodimethylamine   62-75-9        CN(C)N=O   \n",
       "5         N-nitrosamines   N-Nitrosodiethylamine   55-18-5      CCN(CC)N=O   \n",
       "6         N-nitrosamines  N-Nitrosodipropylamine  621-64-7    CCCN(CCC)N=O   \n",
       "7         N-nitrosamines   N-Nitrosodibutylamine  924-16-3  CCCCN(CCCC)N=O   \n",
       "8         N-nitrosamines     N-Nitrosopiperidine  100-75-4     O=NN1CCCCC1   \n",
       "9         N-nitrosamines    N-Nitrosopyrrolidine  930-55-2      O=NN1CCCC1   \n",
       "\n",
       "  structure_curated  substance_type_id  \n",
       "0               OCO                1.0  \n",
       "1               C=O                1.0  \n",
       "2          CN(C)C=O                1.0  \n",
       "3    c1ccc2ncccc2c1                1.0  \n",
       "4          CN(C)N=O                1.0  \n",
       "5        CCN(CC)N=O                1.0  \n",
       "6      CCCN(CCC)N=O                1.0  \n",
       "7    CCCCN(CCCC)N=O                1.0  \n",
       "8       O=NN1CCCCC1                1.0  \n",
       "9        O=NN1CCCC1                1.0  "
      ]
     },
     "execution_count": 15,
     "metadata": {},
     "output_type": "execute_result"
    }
   ],
   "source": [
    "small_strucs"
   ]
  },
  {
   "cell_type": "code",
   "execution_count": 17,
   "metadata": {},
   "outputs": [],
   "source": [
    "updater.add_structure_from_dataframe(dataframe=small_strucs,\n",
    "                                    class_name_field = 'class_name_curated',\n",
    "                                    preferred_name_field = 'preferred_name_curated',\n",
    "                                    chem_id_field='name',\n",
    "                                    chem_id_type='casr_number',\n",
    "                                    smiles_field='structure')"
   ]
  },
  {
   "cell_type": "markdown",
   "metadata": {},
   "source": [
    "Add only the sources present in the dataframe"
   ]
  },
  {
   "cell_type": "code",
   "execution_count": 18,
   "metadata": {},
   "outputs": [],
   "source": [
    "updater.add_source_from_dataframe(dataframe=example_annotations,\n",
    "                                 sourceName_field='source_name')"
   ]
  },
  {
   "cell_type": "markdown",
   "metadata": {},
   "source": [
    "Add only the annotations (hazards etc...) present in the dataframe"
   ]
  },
  {
   "cell_type": "code",
   "execution_count": 19,
   "metadata": {},
   "outputs": [],
   "source": [
    "updater.add_annotation_from_dataframe(dataframe=example_annotations,\n",
    "                                     annotation_field='original_annotation')"
   ]
  }
 ],
 "metadata": {
  "kernelspec": {
   "display_name": "Python 3",
   "language": "python",
   "name": "python3"
  },
  "language_info": {
   "codemirror_mode": {
    "name": "ipython",
    "version": 3
   },
   "file_extension": ".py",
   "mimetype": "text/x-python",
   "name": "python",
   "nbconvert_exporter": "python",
   "pygments_lexer": "ipython3",
   "version": "3.7.3"
  }
 },
 "nbformat": 4,
 "nbformat_minor": 4
}
